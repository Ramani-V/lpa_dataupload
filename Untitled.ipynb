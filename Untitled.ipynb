{
 "cells": [
  {
   "cell_type": "code",
   "execution_count": 6,
   "metadata": {},
   "outputs": [],
   "source": [
    "import pandas as pd\n",
    "import json\n",
    "import uuid\n",
    "import datetime"
   ]
  },
  {
   "cell_type": "code",
   "execution_count": 2,
   "metadata": {},
   "outputs": [
    {
     "name": "stdout",
     "output_type": "stream",
     "text": [
      "2020-11-20T14:15:17.076988\n"
     ]
    }
   ],
   "source": [
    "print(datetime.datetime.now().isoformat())"
   ]
  },
  {
   "cell_type": "code",
   "execution_count": 3,
   "metadata": {},
   "outputs": [
    {
     "name": "stdout",
     "output_type": "stream",
     "text": [
      "2020-11-20\n"
     ]
    }
   ],
   "source": [
    "print(datetime.date.today().isoformat())"
   ]
  },
  {
   "cell_type": "code",
   "execution_count": 20,
   "metadata": {},
   "outputs": [
    {
     "name": "stdout",
     "output_type": "stream",
     "text": [
      "2020-11-20 12:43:25.935518\n"
     ]
    }
   ],
   "source": [
    "today = datetime.datetime.now()\n",
    "print(today)"
   ]
  },
  {
   "cell_type": "code",
   "execution_count": 18,
   "metadata": {},
   "outputs": [
    {
     "name": "stdout",
     "output_type": "stream",
     "text": [
      "2020-11-20\n"
     ]
    }
   ],
   "source": [
    "today = datetime.date.today()\n",
    "print(today)"
   ]
  },
  {
   "cell_type": "code",
   "execution_count": 24,
   "metadata": {},
   "outputs": [],
   "source": [
    "dic={'day':datetime.datetime.now()}"
   ]
  },
  {
   "cell_type": "code",
   "execution_count": 23,
   "metadata": {},
   "outputs": [],
   "source": [
    "dic={'day':datetime.datetime.utcnow()}"
   ]
  },
  {
   "cell_type": "code",
   "execution_count": 25,
   "metadata": {},
   "outputs": [
    {
     "data": {
      "text/plain": [
       "datetime.datetime(2020, 11, 20, 7, 17, 37, 350841)"
      ]
     },
     "execution_count": 25,
     "metadata": {},
     "output_type": "execute_result"
    }
   ],
   "source": [
    "datetime.datetime.utcnow()"
   ]
  },
  {
   "cell_type": "code",
   "execution_count": 30,
   "metadata": {},
   "outputs": [
    {
     "ename": "AttributeError",
     "evalue": "'str' object has no attribute 'timetuple'",
     "output_type": "error",
     "traceback": [
      "\u001b[1;31m---------------------------------------------------------------------------\u001b[0m",
      "\u001b[1;31mAttributeError\u001b[0m                            Traceback (most recent call last)",
      "\u001b[1;32m<ipython-input-30-42c0bc8ec872>\u001b[0m in \u001b[0;36m<module>\u001b[1;34m\u001b[0m\n\u001b[0;32m      1\u001b[0m \u001b[1;32mimport\u001b[0m \u001b[0mtime\u001b[0m\u001b[1;33m\u001b[0m\u001b[1;33m\u001b[0m\u001b[0m\n\u001b[1;32m----> 2\u001b[1;33m \u001b[0mtime\u001b[0m\u001b[1;33m.\u001b[0m\u001b[0mmktime\u001b[0m\u001b[1;33m(\u001b[0m\u001b[0mstr\u001b[0m\u001b[1;33m(\u001b[0m\u001b[0mdatetime\u001b[0m\u001b[1;33m.\u001b[0m\u001b[0mdatetime\u001b[0m\u001b[1;33m.\u001b[0m\u001b[0mnow\u001b[0m\u001b[1;33m(\u001b[0m\u001b[1;33m)\u001b[0m\u001b[1;33m)\u001b[0m\u001b[1;33m.\u001b[0m\u001b[0mtimetuple\u001b[0m\u001b[1;33m(\u001b[0m\u001b[1;33m)\u001b[0m\u001b[1;33m)\u001b[0m\u001b[1;33m\u001b[0m\u001b[1;33m\u001b[0m\u001b[0m\n\u001b[0m",
      "\u001b[1;31mAttributeError\u001b[0m: 'str' object has no attribute 'timetuple'"
     ]
    }
   ],
   "source": [
    "import time\n",
    "time.mktime(str(datetime.datetime.now()).timetuple())"
   ]
  },
  {
   "cell_type": "code",
   "execution_count": 29,
   "metadata": {},
   "outputs": [
    {
     "data": {
      "text/plain": [
       "1605837809.0"
      ]
     },
     "execution_count": 29,
     "metadata": {},
     "output_type": "execute_result"
    }
   ],
   "source": [
    "import time\n",
    "time.mktime(datetime.datetime.utcnow().timetuple())\n"
   ]
  },
  {
   "cell_type": "code",
   "execution_count": 26,
   "metadata": {},
   "outputs": [
    {
     "name": "stdout",
     "output_type": "stream",
     "text": [
      "2020-11-20T12:43:25.935518\n"
     ]
    }
   ],
   "source": [
    "if isinstance(today, (datetime.date, datetime.datetime)):\n",
    "    print(today.isoformat())"
   ]
  },
  {
   "cell_type": "code",
   "execution_count": 7,
   "metadata": {},
   "outputs": [],
   "source": [
    "import numpy as np"
   ]
  },
  {
   "cell_type": "code",
   "execution_count": 7,
   "metadata": {},
   "outputs": [
    {
     "ename": "NameError",
     "evalue": "name 'np' is not defined",
     "output_type": "error",
     "traceback": [
      "\u001b[1;31m---------------------------------------------------------------------------\u001b[0m",
      "\u001b[1;31mNameError\u001b[0m                                 Traceback (most recent call last)",
      "\u001b[1;32m<ipython-input-7-52abaa421f04>\u001b[0m in \u001b[0;36m<module>\u001b[1;34m\u001b[0m\n\u001b[0;32m      6\u001b[0m    'CONVERSION FORMULA2': 'conversion_formula2', 'UNIT SYSTEM' : 'unit_system', 'UNIT TYPE':'unit_type'}\n\u001b[0;32m      7\u001b[0m \u001b[0mdf\u001b[0m \u001b[1;33m=\u001b[0m \u001b[0mpd\u001b[0m\u001b[1;33m.\u001b[0m\u001b[0mread_excel\u001b[0m\u001b[1;33m(\u001b[0m\u001b[1;34m\"UOM Conversions - DPL.xlsx\"\u001b[0m\u001b[1;33m,\u001b[0m \u001b[0msheet_name\u001b[0m\u001b[1;33m=\u001b[0m\u001b[1;34m'UOM'\u001b[0m\u001b[1;33m,\u001b[0m\u001b[0mheader\u001b[0m\u001b[1;33m=\u001b[0m\u001b[1;36m4\u001b[0m\u001b[1;33m,\u001b[0m\u001b[0musecols\u001b[0m\u001b[1;33m=\u001b[0m\u001b[0musecols\u001b[0m\u001b[1;33m)\u001b[0m\u001b[1;33m.\u001b[0m\u001b[0mrename\u001b[0m\u001b[1;33m(\u001b[0m\u001b[0mcolumns\u001b[0m\u001b[1;33m=\u001b[0m\u001b[0mrename_cols\u001b[0m\u001b[1;33m)\u001b[0m\u001b[1;33m\u001b[0m\u001b[1;33m\u001b[0m\u001b[0m\n\u001b[1;32m----> 8\u001b[1;33m \u001b[0mdf\u001b[0m\u001b[1;33m.\u001b[0m\u001b[0mreplace\u001b[0m\u001b[1;33m(\u001b[0m\u001b[1;33m{\u001b[0m\u001b[0mnp\u001b[0m\u001b[1;33m.\u001b[0m\u001b[0mNAN\u001b[0m\u001b[1;33m:\u001b[0m\u001b[1;32mNone\u001b[0m\u001b[1;33m}\u001b[0m\u001b[1;33m,\u001b[0m\u001b[0minplace\u001b[0m\u001b[1;33m=\u001b[0m\u001b[1;32mTrue\u001b[0m\u001b[1;33m)\u001b[0m\u001b[1;33m\u001b[0m\u001b[1;33m\u001b[0m\u001b[0m\n\u001b[0m\u001b[0;32m      9\u001b[0m \u001b[0mprint\u001b[0m\u001b[1;33m(\u001b[0m\u001b[0mdf\u001b[0m\u001b[1;33m.\u001b[0m\u001b[0mcolumns\u001b[0m\u001b[1;33m)\u001b[0m\u001b[1;33m\u001b[0m\u001b[1;33m\u001b[0m\u001b[0m\n\u001b[0;32m     10\u001b[0m \u001b[0mprint\u001b[0m\u001b[1;33m(\u001b[0m\u001b[0mdf\u001b[0m\u001b[1;33m.\u001b[0m\u001b[0mhead\u001b[0m\u001b[1;33m(\u001b[0m\u001b[1;36m15\u001b[0m\u001b[1;33m)\u001b[0m\u001b[1;33m)\u001b[0m\u001b[1;33m\u001b[0m\u001b[1;33m\u001b[0m\u001b[0m\n",
      "\u001b[1;31mNameError\u001b[0m: name 'np' is not defined"
     ]
    }
   ],
   "source": [
    "usecols=['UNIT NAME',\n",
    "   'PA UNIT NAME', 'UNIT ALT NAME', 'CONVERSION FORMULA',\n",
    "   'CONVERSION FORMULA2', 'UNIT SYSTEM', 'UNIT TYPE']\n",
    "rename_cols = {'UNIT NAME':'unit_name',\n",
    "   'PA UNIT NAME':'pa_unit_name', 'UNIT ALT NAME':'unit_alt_name', 'CONVERSION FORMULA':'conversion_formula',\n",
    "   'CONVERSION FORMULA2': 'conversion_formula2', 'UNIT SYSTEM' : 'unit_system', 'UNIT TYPE':'unit_type'}\n",
    "df = pd.read_excel(\"UOM Conversions - DPL.xlsx\", sheet_name='UOM',header=4,usecols=usecols)\n",
    "df.rename()\n",
    "df.replace({np.NAN:None},inplace=True)\n",
    "print(df.columns)\n",
    "print(df.head(15))\n",
    "result = df.to_dict(orient='records')\n",
    "print(result)"
   ]
  },
  {
   "cell_type": "code",
   "execution_count": 5,
   "metadata": {},
   "outputs": [
    {
     "name": "stdout",
     "output_type": "stream",
     "text": [
      "{'A': 1} yes\n",
      "is False\n"
     ]
    }
   ],
   "source": [
    "a={'A':1}\n",
    "b=None\n",
    "if a:\n",
    "    print(a,'yes')\n",
    "if b:\n",
    "    print('is True')\n",
    "else:\n",
    "    print('is False')"
   ]
  },
  {
   "cell_type": "code",
   "execution_count": 78,
   "metadata": {},
   "outputs": [
    {
     "ename": "SyntaxError",
     "evalue": "lambda cannot contain assignment (<ipython-input-78-faa42c4af329>, line 1)",
     "output_type": "error",
     "traceback": [
      "\u001b[1;36m  File \u001b[1;32m\"<ipython-input-78-faa42c4af329>\"\u001b[1;36m, line \u001b[1;32m1\u001b[0m\n\u001b[1;33m    result.apply(lambda x:x['description']={'language':['en-us',]})\u001b[0m\n\u001b[1;37m                ^\u001b[0m\n\u001b[1;31mSyntaxError\u001b[0m\u001b[1;31m:\u001b[0m lambda cannot contain assignment\n"
     ]
    }
   ],
   "source": [
    "result.apply(lambda x:x['description']={'language':['en-us',]})"
   ]
  },
  {
   "cell_type": "code",
   "execution_count": 65,
   "metadata": {},
   "outputs": [
    {
     "data": {
      "text/plain": [
       "[{'UNIT TYPE': 'CTE', 'UNIT NAME': ['1/C', '1/F']},\n",
       " {'UNIT TYPE': 'Density',\n",
       "  'UNIT NAME': ['g/cm3', 'kg/cm3', 'kg/dm3', 'kg/m3', 'lb/ft3', 'lb/gal(US)']},\n",
       " {'UNIT TYPE': 'Length', 'UNIT NAME': ['in', 'feet', 'm', 'cm', 'mm']},\n",
       " {'UNIT TYPE': 'Pressure - Absolute',\n",
       "  'UNIT NAME': ['bar-a',\n",
       "   'atm-a',\n",
       "   'inH2O@4C - a',\n",
       "   'inH2O@60F -a',\n",
       "   'inH2O@68F -a',\n",
       "   'ftH2O@68F -a',\n",
       "   'inHg@0C -a',\n",
       "   'inHg@60F -a',\n",
       "   'g/cm2 -a',\n",
       "   'kg/cm2-a',\n",
       "   'kPa-a',\n",
       "   'mbar-a',\n",
       "   'mH2O@4C -a',\n",
       "   'mmH2O@4C -a',\n",
       "   'mmH2O@60F -a',\n",
       "   'mmH2O@68F -a',\n",
       "   'mmHg@0C -a',\n",
       "   'mmHg@60F -a',\n",
       "   'Pa-a',\n",
       "   'MPa-a',\n",
       "   'Torr -a',\n",
       "   'psia']},\n",
       " {'UNIT TYPE': 'Pressure - Differential',\n",
       "  'UNIT NAME': ['bar',\n",
       "   'atm',\n",
       "   'inH2O@4C',\n",
       "   'inH2O@60F',\n",
       "   'inH2O@68F',\n",
       "   'ftH2O@68F',\n",
       "   'inHg@0C',\n",
       "   'inHg@60F',\n",
       "   'g/cm2',\n",
       "   'kg/cm2',\n",
       "   'kPa',\n",
       "   'mbar',\n",
       "   'mH2O@4C',\n",
       "   'mmH2O@4C',\n",
       "   'mmH2O@60F',\n",
       "   'mmH2O@68F',\n",
       "   'mmHg@0C',\n",
       "   'mmHg@60F',\n",
       "   'Pa',\n",
       "   'mPA',\n",
       "   'Torr',\n",
       "   'psi']},\n",
       " {'UNIT TYPE': 'Pressure - Gauge',\n",
       "  'UNIT NAME': ['bar-g',\n",
       "   'atm-g',\n",
       "   'inH2O@4C-g',\n",
       "   'inH2O@60F-g',\n",
       "   'inH2O@68F-g',\n",
       "   'ftH2O@68F-g',\n",
       "   'inHg@0C-g',\n",
       "   'inHg@60F-g',\n",
       "   'g/cm2-g',\n",
       "   'kg/cm2-g',\n",
       "   'kPa-g',\n",
       "   'mbar-g',\n",
       "   'mH2O@4C-g',\n",
       "   'mmH2O@4C-g',\n",
       "   'mmH2O@60F-g',\n",
       "   'mmH2O@68F-g',\n",
       "   'mmHg@0C-g',\n",
       "   'mmHg@60F-g',\n",
       "   'Pa-g',\n",
       "   'MPa-g',\n",
       "   'Torr-g',\n",
       "   'psig']},\n",
       " {'UNIT TYPE': 'Temperature', 'UNIT NAME': ['C', 'F', 'K', 'R']},\n",
       " {'UNIT TYPE': 'Viscosity - Kinematic',\n",
       "  'UNIT NAME': ['ft2/sec', 'cSt (mm2/sec)', 'Stokes (cm2/sec)']},\n",
       " {'UNIT TYPE': 'Volume', 'UNIT NAME': ['in3', 'ft3', 'm3', 'cm3', 'mm3']}]"
      ]
     },
     "execution_count": 65,
     "metadata": {},
     "output_type": "execute_result"
    }
   ],
   "source": [
    "grp=df.groupby('UNIT TYPE')['UNIT NAME'].apply(list).reset_index(name='UNIT NAME')"
   ]
  },
  {
   "cell_type": "code",
   "execution_count": 9,
   "metadata": {},
   "outputs": [
    {
     "ename": "AttributeError",
     "evalue": "module 'dotenv' has no attribute 'read_dotenv'",
     "output_type": "error",
     "traceback": [
      "\u001b[1;31m---------------------------------------------------------------------------\u001b[0m",
      "\u001b[1;31mAttributeError\u001b[0m                            Traceback (most recent call last)",
      "\u001b[1;32m<ipython-input-9-0b7e1d8e32f1>\u001b[0m in \u001b[0;36m<module>\u001b[1;34m\u001b[0m\n\u001b[0;32m      1\u001b[0m \u001b[1;32mimport\u001b[0m \u001b[0mdotenv\u001b[0m\u001b[1;33m\u001b[0m\u001b[1;33m\u001b[0m\u001b[0m\n\u001b[1;32m----> 2\u001b[1;33m \u001b[0mdotenv\u001b[0m\u001b[1;33m.\u001b[0m\u001b[0mread_dotenv\u001b[0m\u001b[1;33m(\u001b[0m\u001b[1;33m)\u001b[0m\u001b[1;33m\u001b[0m\u001b[1;33m\u001b[0m\u001b[0m\n\u001b[0m",
      "\u001b[1;31mAttributeError\u001b[0m: module 'dotenv' has no attribute 'read_dotenv'"
     ]
    }
   ],
   "source": [
    "import dotenv\n",
    "dotenv.read_dotenv()"
   ]
  },
  {
   "cell_type": "code",
   "execution_count": 81,
   "metadata": {},
   "outputs": [],
   "source": [
    "from enum import Enum"
   ]
  },
  {
   "cell_type": "code",
   "execution_count": 83,
   "metadata": {},
   "outputs": [],
   "source": [
    "class langu(Enum):\n",
    "    RED=1\n",
    "    GREEN=2"
   ]
  },
  {
   "cell_type": "code",
   "execution_count": 86,
   "metadata": {},
   "outputs": [
    {
     "name": "stdout",
     "output_type": "stream",
     "text": [
      "[<langu.RED: 1>, <langu.GREEN: 2>]\n"
     ]
    }
   ],
   "source": [
    "print(list(langu))"
   ]
  },
  {
   "cell_type": "code",
   "execution_count": null,
   "metadata": {},
   "outputs": [],
   "source": [
    "grp."
   ]
  },
  {
   "cell_type": "code",
   "execution_count": null,
   "metadata": {},
   "outputs": [],
   "source": [
    "grp."
   ]
  },
  {
   "cell_type": "code",
   "execution_count": 28,
   "metadata": {},
   "outputs": [
    {
     "data": {
      "text/plain": [
       "'kg/cm3'"
      ]
     },
     "execution_count": 28,
     "metadata": {},
     "output_type": "execute_result"
    }
   ],
   "source": [
    "df.iloc[1,0]"
   ]
  },
  {
   "cell_type": "code",
   "execution_count": 22,
   "metadata": {},
   "outputs": [
    {
     "data": {
      "text/plain": [
       "RangeIndex(start=0, stop=91, step=1)"
      ]
     },
     "execution_count": 22,
     "metadata": {},
     "output_type": "execute_result"
    }
   ],
   "source": [
    "df.index"
   ]
  },
  {
   "cell_type": "code",
   "execution_count": 8,
   "metadata": {},
   "outputs": [
    {
     "data": {
      "text/html": [
       "<div>\n",
       "<style scoped>\n",
       "    .dataframe tbody tr th:only-of-type {\n",
       "        vertical-align: middle;\n",
       "    }\n",
       "\n",
       "    .dataframe tbody tr th {\n",
       "        vertical-align: top;\n",
       "    }\n",
       "\n",
       "    .dataframe thead th {\n",
       "        text-align: right;\n",
       "    }\n",
       "</style>\n",
       "<table border=\"1\" class=\"dataframe\">\n",
       "  <thead>\n",
       "    <tr style=\"text-align: right;\">\n",
       "      <th></th>\n",
       "      <th>UNIT NAME</th>\n",
       "      <th>UNIT TYPE</th>\n",
       "    </tr>\n",
       "  </thead>\n",
       "  <tbody>\n",
       "    <tr>\n",
       "      <th>0</th>\n",
       "      <td>g/cm3</td>\n",
       "      <td>Density</td>\n",
       "    </tr>\n",
       "    <tr>\n",
       "      <th>1</th>\n",
       "      <td>kg/cm3</td>\n",
       "      <td>Density</td>\n",
       "    </tr>\n",
       "    <tr>\n",
       "      <th>2</th>\n",
       "      <td>kg/dm3</td>\n",
       "      <td>Density</td>\n",
       "    </tr>\n",
       "    <tr>\n",
       "      <th>3</th>\n",
       "      <td>kg/m3</td>\n",
       "      <td>Density</td>\n",
       "    </tr>\n",
       "    <tr>\n",
       "      <th>4</th>\n",
       "      <td>lb/ft3</td>\n",
       "      <td>Density</td>\n",
       "    </tr>\n",
       "  </tbody>\n",
       "</table>\n",
       "</div>"
      ],
      "text/plain": [
       "  UNIT NAME UNIT TYPE\n",
       "0     g/cm3   Density\n",
       "1    kg/cm3   Density\n",
       "2    kg/dm3   Density\n",
       "3     kg/m3   Density\n",
       "4    lb/ft3   Density"
      ]
     },
     "execution_count": 8,
     "metadata": {},
     "output_type": "execute_result"
    }
   ],
   "source": [
    "df.head()"
   ]
  }
 ],
 "metadata": {
  "kernelspec": {
   "display_name": "Python 3",
   "language": "python",
   "name": "python3"
  },
  "language_info": {
   "codemirror_mode": {
    "name": "ipython",
    "version": 3
   },
   "file_extension": ".py",
   "mimetype": "text/x-python",
   "name": "python",
   "nbconvert_exporter": "python",
   "pygments_lexer": "ipython3",
   "version": "3.7.4"
  }
 },
 "nbformat": 4,
 "nbformat_minor": 4
}
